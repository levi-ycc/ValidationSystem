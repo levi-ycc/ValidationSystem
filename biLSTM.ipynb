{
 "cells": [
  {
   "cell_type": "code",
   "execution_count": 1,
   "metadata": {},
   "outputs": [
    {
     "name": "stderr",
     "output_type": "stream",
     "text": [
      "Using TensorFlow backend.\n"
     ]
    }
   ],
   "source": [
    "from __future__ import print_function\n",
    "import numpy as np\n",
    "\n",
    "from keras.preprocessing import sequence\n",
    "from keras.models import Sequential\n",
    "from keras.layers import Dense, Dropout, Embedding, LSTM, Bidirectional\n",
    "from keras.datasets import imdb\n",
    "from keras.optimizers import Adam\n",
    "\n",
    "import numpy as np\n",
    "import pandas as pd"
   ]
  },
  {
   "cell_type": "code",
   "execution_count": 2,
   "metadata": {},
   "outputs": [],
   "source": [
    "from lib.stochastic import ConnectedBrownianMotion"
   ]
  },
  {
   "cell_type": "markdown",
   "metadata": {},
   "source": [
    "# Data processing"
   ]
  },
  {
   "cell_type": "code",
   "execution_count": 3,
   "metadata": {},
   "outputs": [],
   "source": [
    "def create_dataset(X, y, time_steps=1):\n",
    "    Xs, ys = [], []\n",
    "    for i in range(len(X) - time_steps):\n",
    "        v = X.iloc[i:(i + time_steps)].values\n",
    "        Xs.append(v)\n",
    "        ys.append(y.iloc[i + time_steps])\n",
    "    return np.array(Xs), np.array(ys)"
   ]
  },
  {
   "cell_type": "code",
   "execution_count": 4,
   "metadata": {},
   "outputs": [],
   "source": [
    "cb = ConnectedBrownianMotion(tick_length=18000)"
   ]
  },
  {
   "cell_type": "code",
   "execution_count": 5,
   "metadata": {},
   "outputs": [],
   "source": [
    "df = pd.DataFrame()\n",
    "for i in cb.make_days(100):\n",
    "    df=df.append(i, ignore_index=True)"
   ]
  },
  {
   "cell_type": "code",
   "execution_count": 6,
   "metadata": {
    "scrolled": true
   },
   "outputs": [],
   "source": [
    "X=df[['O','H','L','C']]\n",
    "y=df[['Hurst']]\n",
    "data = create_dataset(X, y, 10)"
   ]
  },
  {
   "cell_type": "code",
   "execution_count": 7,
   "metadata": {},
   "outputs": [
    {
     "data": {
      "text/plain": [
       "[<matplotlib.lines.Line2D at 0x7e73c7a54e48>]"
      ]
     },
     "execution_count": 7,
     "metadata": {},
     "output_type": "execute_result"
    },
    {
     "data": {
      "image/png": "[encoded data removed]",
      "text/plain": [
       "<Figure size 432x288 with 1 Axes>"
      ]
     },
     "metadata": {
      "needs_background": "light"
     },
     "output_type": "display_data"
    }
   ],
   "source": [
    "import matplotlib.pyplot as plt\n",
    "plt.plot(X['C'][10000:12000])"
   ]
  },
  {
   "cell_type": "code",
   "execution_count": 8,
   "metadata": {},
   "outputs": [
    {
     "data": {
      "text/plain": [
       "(14990, 10, 4)"
      ]
     },
     "execution_count": 8,
     "metadata": {},
     "output_type": "execute_result"
    }
   ],
   "source": [
    "data[0].shape"
   ]
  },
  {
   "cell_type": "code",
   "execution_count": 9,
   "metadata": {},
   "outputs": [],
   "source": [
    "split = 0.8\n",
    "total_data = data[0].shape[0]\n",
    "end_ptr = int(total_data*split)"
   ]
  },
  {
   "cell_type": "code",
   "execution_count": 10,
   "metadata": {},
   "outputs": [],
   "source": [
    "x_train = data[0][:end_ptr]\n",
    "y_train = data[1][:end_ptr]\n",
    "x_test = data[0][end_ptr:]\n",
    "y_test = data[1][end_ptr:]"
   ]
  },
  {
   "cell_type": "code",
   "execution_count": 11,
   "metadata": {},
   "outputs": [],
   "source": [
    "update_y_train = np.zeros([y_train.shape[0], 3])\n",
    "\n",
    "for y in range(y_train.shape[0]):\n",
    "    if y_train[y] < 0.5:\n",
    "        update_y_train[y][0] = 1\n",
    "        update_y_train[y][1] = 0\n",
    "        update_y_train[y][2] = 0\n",
    "    elif y_train[y] > 0.5:\n",
    "        update_y_train[y][0] = 0\n",
    "        update_y_train[y][1] = 0\n",
    "        update_y_train[y][2] = 1\n",
    "    else:\n",
    "        update_y_train[y][0] = 0\n",
    "        update_y_train[y][1] = 1\n",
    "        update_y_train[y][2] = 0"
   ]
  },
  {
   "cell_type": "code",
   "execution_count": 12,
   "metadata": {},
   "outputs": [],
   "source": [
    "update_y_test = np.zeros([y_test.shape[0], 3])\n",
    "\n",
    "for y in range(y_test.shape[0]):\n",
    "    if y_test[y] < 0.5:\n",
    "        update_y_test[y][0] = 1\n",
    "        update_y_test[y][1] = 0\n",
    "        update_y_test[y][2] = 0\n",
    "    elif y_test[y] > 0.5:\n",
    "        update_y_test[y][0] = 0\n",
    "        update_y_test[y][1] = 0\n",
    "        update_y_test[y][2] = 1\n",
    "    else:\n",
    "        update_y_test[y][0] = 0\n",
    "        update_y_test[y][1] = 1\n",
    "        update_y_test[y][2] = 0"
   ]
  },
  {
   "cell_type": "code",
   "execution_count": 13,
   "metadata": {},
   "outputs": [
    {
     "data": {
      "text/plain": [
       "array([[-0.03711341,  0.25987563, -0.0695439 ,  0.23654172],\n",
       "       [ 0.22919467,  0.23858309, -0.16729042, -0.11218901],\n",
       "       [-0.16858065,  0.01637424, -0.32099134, -0.03510444],\n",
       "       [ 0.02139741,  0.14146374, -0.43584906, -0.3586583 ],\n",
       "       [-0.3229963 , -0.06240405, -0.46295889, -0.46295889],\n",
       "       [-0.45765388, -0.32836147, -0.70401943, -0.6988634 ],\n",
       "       [-0.76021145, -0.70933571, -0.96911096, -0.78848016],\n",
       "       [-0.7846104 , -0.73561498, -1.14093279, -1.05172058],\n",
       "       [-1.06760741, -0.80868386, -1.36510074, -1.31384141],\n",
       "       [-1.32007235, -0.68252883, -1.32007235, -1.04994409]])"
      ]
     },
     "execution_count": 13,
     "metadata": {},
     "output_type": "execute_result"
    }
   ],
   "source": [
    "x_train[0]"
   ]
  },
  {
   "cell_type": "code",
   "execution_count": 14,
   "metadata": {},
   "outputs": [],
   "source": [
    "max_features = 4\n",
    "maxlen = 10\n",
    "batch_size = 32\n",
    "y_train = np.array(update_y_train)\n",
    "y_test = np.array(update_y_test)"
   ]
  },
  {
   "cell_type": "code",
   "execution_count": 15,
   "metadata": {},
   "outputs": [
    {
     "data": {
      "text/plain": [
       "(11992, 10, 4)"
      ]
     },
     "execution_count": 15,
     "metadata": {},
     "output_type": "execute_result"
    }
   ],
   "source": [
    "x_train.shape"
   ]
  },
  {
   "cell_type": "markdown",
   "metadata": {},
   "source": [
    "# Model"
   ]
  },
  {
   "cell_type": "code",
   "execution_count": 16,
   "metadata": {},
   "outputs": [
    {
     "name": "stdout",
     "output_type": "stream",
     "text": [
      "Train...\n",
      "Train on 11992 samples, validate on 2998 samples\n",
      "Epoch 1/10\n",
      "11992/11992 [==============================] - 11s 944us/step - loss: 0.5390 - accuracy: 0.6633 - val_loss: 0.4877 - val_accuracy: 0.6652\n",
      "Epoch 2/10\n",
      "11992/11992 [==============================] - 9s 717us/step - loss: 0.4939 - accuracy: 0.6714 - val_loss: 0.4880 - val_accuracy: 0.6738\n",
      "Epoch 3/10\n",
      "11992/11992 [==============================] - 9s 717us/step - loss: 0.4890 - accuracy: 0.6880 - val_loss: 0.4880 - val_accuracy: 0.6753\n",
      "Epoch 4/10\n",
      "11992/11992 [==============================] - 9s 733us/step - loss: 0.4796 - accuracy: 0.7204 - val_loss: 0.4866 - val_accuracy: 0.6829\n",
      "Epoch 5/10\n",
      "11992/11992 [==============================] - 10s 793us/step - loss: 0.4564 - accuracy: 0.7558 - val_loss: 0.4681 - val_accuracy: 0.7981\n",
      "Epoch 6/10\n",
      "11992/11992 [==============================] - 9s 726us/step - loss: 0.4118 - accuracy: 0.8073 - val_loss: 0.4471 - val_accuracy: 0.7606\n",
      "Epoch 7/10\n",
      "11992/11992 [==============================] - 9s 787us/step - loss: 0.3847 - accuracy: 0.8291 - val_loss: 0.4367 - val_accuracy: 0.7830\n",
      "Epoch 8/10\n",
      "11992/11992 [==============================] - 9s 747us/step - loss: 0.3746 - accuracy: 0.8359 - val_loss: 0.4247 - val_accuracy: 0.7956\n",
      "Epoch 9/10\n",
      "11992/11992 [==============================] - 9s 751us/step - loss: 0.3648 - accuracy: 0.8411 - val_loss: 0.4686 - val_accuracy: 0.7705\n",
      "Epoch 10/10\n",
      "11992/11992 [==============================] - 9s 748us/step - loss: 0.3583 - accuracy: 0.8421 - val_loss: 0.4265 - val_accuracy: 0.7837\n"
     ]
    },
    {
     "data": {
      "text/plain": [
       "<keras.callbacks.callbacks.History at 0x7e73c804af60>"
      ]
     },
     "execution_count": 16,
     "metadata": {},
     "output_type": "execute_result"
    }
   ],
   "source": [
    "model = Sequential()\n",
    "model.add(Bidirectional(LSTM(32, return_sequences=True), input_shape=(maxlen,max_features)))\n",
    "model.add(Dropout(0.5))\n",
    "model.add(Bidirectional(LSTM(32), input_shape=(1,1)))\n",
    "\n",
    "model.add(Dense(3, activation='sigmoid'))\n",
    "\n",
    "# try using different optimizers and different optimizer configs\n",
    "adam = Adam(lr=1e-4)\n",
    "model.compile(adam, 'binary_crossentropy', metrics=['accuracy'])\n",
    "\n",
    "print('Train...')\n",
    "model.fit(x_train, y_train,\n",
    "          batch_size=batch_size,\n",
    "          epochs=10,\n",
    "          validation_data=[x_test, y_test])"
   ]
  },
  {
   "cell_type": "markdown",
   "metadata": {},
   "source": [
    "# Validate"
   ]
  },
  {
   "cell_type": "code",
   "execution_count": 17,
   "metadata": {},
   "outputs": [],
   "source": [
    "n=105"
   ]
  },
  {
   "cell_type": "code",
   "execution_count": 18,
   "metadata": {},
   "outputs": [],
   "source": [
    "pred = np.argmax(model.predict(x_test[n].reshape(1,x_test[0].shape[0], 4)))"
   ]
  },
  {
   "cell_type": "code",
   "execution_count": 19,
   "metadata": {},
   "outputs": [],
   "source": [
    "map_dict={'0':'neg_corr', '1':'bm', '2':'pos_corr'}"
   ]
  },
  {
   "cell_type": "code",
   "execution_count": 20,
   "metadata": {},
   "outputs": [
    {
     "data": {
      "text/plain": [
       "'pos_corr'"
      ]
     },
     "execution_count": 20,
     "metadata": {},
     "output_type": "execute_result"
    }
   ],
   "source": [
    "map_dict.get(str(pred))"
   ]
  },
  {
   "cell_type": "code",
   "execution_count": 21,
   "metadata": {},
   "outputs": [
    {
     "data": {
      "text/plain": [
       "array([[-31.25450691, -30.88547125, -31.6005125 , -31.07215195],\n",
       "       [-31.0610529 , -31.02967696, -31.10957442, -31.06820139],\n",
       "       [-31.06751019, -30.95283378, -31.08352032, -30.96154022],\n",
       "       [-30.9623692 , -30.9623692 , -31.08809954, -31.02521896],\n",
       "       [-31.01984654, -31.01054664, -31.31366557, -31.29512858],\n",
       "       [-31.2915355 , -31.242421  , -31.36785415, -31.34875878],\n",
       "       [-31.35253899, -31.35141598, -31.59394514, -31.57580085],\n",
       "       [-31.57137612, -31.56702718, -31.6627777 , -31.6627777 ],\n",
       "       [-31.67372567, -31.54259783, -31.68204401, -31.5599164 ],\n",
       "       [-31.56547738, -31.54813217, -31.59263557, -31.5813201 ]])"
      ]
     },
     "execution_count": 21,
     "metadata": {},
     "output_type": "execute_result"
    }
   ],
   "source": [
    "x_test[n]"
   ]
  },
  {
   "cell_type": "code",
   "execution_count": 22,
   "metadata": {},
   "outputs": [
    {
     "data": {
      "text/plain": [
       "array([0., 0., 1.])"
      ]
     },
     "execution_count": 22,
     "metadata": {},
     "output_type": "execute_result"
    }
   ],
   "source": [
    "y_test[n]"
   ]
  },
  {
   "cell_type": "code",
   "execution_count": 23,
   "metadata": {},
   "outputs": [
    {
     "data": {
      "text/plain": [
       "2"
      ]
     },
     "execution_count": 23,
     "metadata": {},
     "output_type": "execute_result"
    }
   ],
   "source": [
    "pred"
   ]
  },
  {
   "cell_type": "code",
   "execution_count": null,
   "metadata": {},
   "outputs": [],
   "source": []
  }
 ],
 "metadata": {
  "kernelspec": {
   "display_name": "Python 3",
   "language": "python",
   "name": "python3"
  },
  "language_info": {
   "codemirror_mode": {
    "name": "ipython",
    "version": 3
   },
   "file_extension": ".py",
   "mimetype": "text/x-python",
   "name": "python",
   "nbconvert_exporter": "python",
   "pygments_lexer": "ipython3",
   "version": "3.6.10"
  }
 },
 "nbformat": 4,
 "nbformat_minor": 4
}
