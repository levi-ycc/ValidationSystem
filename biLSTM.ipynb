{
 "cells": [
  {
   "cell_type": "code",
   "execution_count": 1,
   "metadata": {},
   "outputs": [
    {
     "name": "stderr",
     "output_type": "stream",
     "text": [
      "Using TensorFlow backend.\n"
     ]
    }
   ],
   "source": [
    "from __future__ import print_function\n",
    "import numpy as np\n",
    "\n",
    "from keras.models import Sequential\n",
    "from keras.layers import Dense, Dropout, LSTM, Bidirectional\n",
    "from keras.optimizers import Adam\n",
    "\n",
    "import numpy as np\n",
    "import pandas as pd"
   ]
  },
  {
   "cell_type": "code",
   "execution_count": 2,
   "metadata": {},
   "outputs": [],
   "source": [
    "from lib.stochastic import ConnectedBrownianMotion"
   ]
  },
  {
   "cell_type": "markdown",
   "metadata": {},
   "source": [
    "# Data processing"
   ]
  },
  {
   "cell_type": "code",
   "execution_count": 3,
   "metadata": {},
   "outputs": [],
   "source": [
    "def create_dataset(X, y, time_steps=1):\n",
    "    Xs, ys = [], []\n",
    "    for i in range(len(X) - time_steps):\n",
    "        v = X.iloc[i:(i + time_steps)].values\n",
    "        Xs.append(v)\n",
    "        ys.append(y.iloc[i + time_steps])\n",
    "    return np.array(Xs), np.array(ys)"
   ]
  },
  {
   "cell_type": "code",
   "execution_count": 4,
   "metadata": {},
   "outputs": [],
   "source": [
    "cb = ConnectedBrownianMotion(state_num=3, tick_length=18000)"
   ]
  },
  {
   "cell_type": "code",
   "execution_count": 5,
   "metadata": {},
   "outputs": [],
   "source": [
    "df = pd.DataFrame()\n",
    "for i in cb.make_days(10):\n",
    "    df=df.append(i, ignore_index=True)"
   ]
  },
  {
   "cell_type": "code",
   "execution_count": 6,
   "metadata": {
    "scrolled": true
   },
   "outputs": [],
   "source": [
    "X=df[['O','H','L','C']]\n",
    "y=df[['Hurst']]\n",
    "data = create_dataset(X, y, 10)"
   ]
  },
  {
   "cell_type": "code",
   "execution_count": 7,
   "metadata": {},
   "outputs": [
    {
     "data": {
      "text/plain": [
       "[<matplotlib.lines.Line2D at 0x79bd35ca5a90>]"
      ]
     },
     "execution_count": 7,
     "metadata": {},
     "output_type": "execute_result"
    },
    {
     "data": {
      "image/png": "[encoded data removed]",
      "text/plain": [
       "<Figure size 432x288 with 1 Axes>"
      ]
     },
     "metadata": {
      "needs_background": "light"
     },
     "output_type": "display_data"
    }
   ],
   "source": [
    "import matplotlib.pyplot as plt\n",
    "plt.plot(X['C'])"
   ]
  },
  {
   "cell_type": "code",
   "execution_count": 8,
   "metadata": {},
   "outputs": [
    {
     "data": {
      "text/plain": [
       "(1490, 10, 4)"
      ]
     },
     "execution_count": 8,
     "metadata": {},
     "output_type": "execute_result"
    }
   ],
   "source": [
    "data[0].shape"
   ]
  },
  {
   "cell_type": "code",
   "execution_count": 9,
   "metadata": {},
   "outputs": [],
   "source": [
    "split = 0.8\n",
    "total_data = data[0].shape[0]\n",
    "end_ptr = int(total_data*split)"
   ]
  },
  {
   "cell_type": "code",
   "execution_count": 10,
   "metadata": {},
   "outputs": [],
   "source": [
    "x_train = data[0][:end_ptr]\n",
    "y_train = data[1][:end_ptr]\n",
    "x_test = data[0][end_ptr:]\n",
    "y_test = data[1][end_ptr:]"
   ]
  },
  {
   "cell_type": "code",
   "execution_count": 11,
   "metadata": {},
   "outputs": [],
   "source": [
    "update_y_train = np.zeros([y_train.shape[0], 3])\n",
    "\n",
    "for y in range(y_train.shape[0]):\n",
    "    if y_train[y] < 0.5:\n",
    "        update_y_train[y][0] = 1\n",
    "        update_y_train[y][1] = 0\n",
    "        update_y_train[y][2] = 0\n",
    "    elif y_train[y] > 0.5:\n",
    "        update_y_train[y][0] = 0\n",
    "        update_y_train[y][1] = 0\n",
    "        update_y_train[y][2] = 1\n",
    "    else:\n",
    "        update_y_train[y][0] = 0\n",
    "        update_y_train[y][1] = 1\n",
    "        update_y_train[y][2] = 0"
   ]
  },
  {
   "cell_type": "code",
   "execution_count": 12,
   "metadata": {},
   "outputs": [],
   "source": [
    "update_y_test = np.zeros([y_test.shape[0], 3])\n",
    "\n",
    "for y in range(y_test.shape[0]):\n",
    "    if y_test[y] < 0.5:\n",
    "        update_y_test[y][0] = 1\n",
    "        update_y_test[y][1] = 0\n",
    "        update_y_test[y][2] = 0\n",
    "    elif y_test[y] > 0.5:\n",
    "        update_y_test[y][0] = 0\n",
    "        update_y_test[y][1] = 0\n",
    "        update_y_test[y][2] = 1\n",
    "    else:\n",
    "        update_y_test[y][0] = 0\n",
    "        update_y_test[y][1] = 1\n",
    "        update_y_test[y][2] = 0"
   ]
  },
  {
   "cell_type": "code",
   "execution_count": 13,
   "metadata": {},
   "outputs": [
    {
     "data": {
      "text/plain": [
       "array([[-0.07940908,  0.28879248, -1.0993705 , -0.97925687],\n",
       "       [-1.04183981, -0.95250004, -1.86918883, -1.71727438],\n",
       "       [-1.54943106, -1.30016533, -2.09143996, -1.48398866],\n",
       "       [-1.49461866, -1.32588917, -1.98367962, -1.86361624],\n",
       "       [-1.91698819, -1.39349351, -1.98258604, -1.68254278],\n",
       "       [-1.6617541 , -1.60243659, -2.71563784, -2.59079073],\n",
       "       [-2.63509063, -2.28767838, -2.85959527, -2.56055311],\n",
       "       [-2.6126825 , -1.84268866, -2.68883765, -2.00647297],\n",
       "       [-1.92153302, -1.62872742, -2.19110827, -1.82780807],\n",
       "       [-1.86227991, -1.15337908, -2.099765  , -1.15882622]])"
      ]
     },
     "execution_count": 13,
     "metadata": {},
     "output_type": "execute_result"
    }
   ],
   "source": [
    "x_train[0]"
   ]
  },
  {
   "cell_type": "code",
   "execution_count": 14,
   "metadata": {},
   "outputs": [],
   "source": [
    "max_features = 4\n",
    "maxlen = 10\n",
    "batch_size = 32\n",
    "y_train = np.array(update_y_train)\n",
    "y_test = np.array(update_y_test)"
   ]
  },
  {
   "cell_type": "code",
   "execution_count": 15,
   "metadata": {},
   "outputs": [
    {
     "data": {
      "text/plain": [
       "(11992, 10, 4)"
      ]
     },
     "execution_count": 15,
     "metadata": {},
     "output_type": "execute_result"
    }
   ],
   "source": [
    "x_train.shape"
   ]
  },
  {
   "cell_type": "markdown",
   "metadata": {},
   "source": [
    "# Model"
   ]
  },
  {
   "cell_type": "code",
   "execution_count": 16,
   "metadata": {},
   "outputs": [
    {
     "name": "stdout",
     "output_type": "stream",
     "text": [
      "Train...\n",
      "Train on 11992 samples, validate on 2998 samples\n",
      "Epoch 1/30\n",
      "11992/11992 [==============================] - 11s 904us/step - loss: 0.5335 - accuracy: 0.6688 - val_loss: 0.4902 - val_accuracy: 0.6976\n",
      "Epoch 2/30\n",
      "11992/11992 [==============================] - 9s 728us/step - loss: 0.5009 - accuracy: 0.6845 - val_loss: 0.4890 - val_accuracy: 0.6976\n",
      "Epoch 3/30\n",
      "11992/11992 [==============================] - 9s 725us/step - loss: 0.4976 - accuracy: 0.6865 - val_loss: 0.4895 - val_accuracy: 0.6976\n",
      "Epoch 4/30\n",
      "11992/11992 [==============================] - 10s 854us/step - loss: 0.4964 - accuracy: 0.6871 - val_loss: 0.4917 - val_accuracy: 0.6817\n",
      "Epoch 5/30\n",
      "11992/11992 [==============================] - 9s 773us/step - loss: 0.4960 - accuracy: 0.6868 - val_loss: 0.4883 - val_accuracy: 0.6976\n",
      "Epoch 6/30\n",
      "11992/11992 [==============================] - 10s 822us/step - loss: 0.4925 - accuracy: 0.6983 - val_loss: 0.4787 - val_accuracy: 0.7415\n",
      "Epoch 7/30\n",
      "11992/11992 [==============================] - 10s 803us/step - loss: 0.4841 - accuracy: 0.7185 - val_loss: 0.5016 - val_accuracy: 0.6451\n",
      "Epoch 8/30\n",
      "11992/11992 [==============================] - 13s 1ms/step - loss: 0.4419 - accuracy: 0.7810 - val_loss: 0.4224 - val_accuracy: 0.7895\n",
      "Epoch 9/30\n",
      "11992/11992 [==============================] - 10s 817us/step - loss: 0.4123 - accuracy: 0.8081 - val_loss: 0.3797 - val_accuracy: 0.8291\n",
      "Epoch 10/30\n",
      "11992/11992 [==============================] - 9s 786us/step - loss: 0.3889 - accuracy: 0.8261 - val_loss: 0.3626 - val_accuracy: 0.8426\n",
      "Epoch 11/30\n",
      "11992/11992 [==============================] - 9s 762us/step - loss: 0.3963 - accuracy: 0.8213 - val_loss: 0.4357 - val_accuracy: 0.8041\n",
      "Epoch 12/30\n",
      "11992/11992 [==============================] - 10s 870us/step - loss: 0.3810 - accuracy: 0.8347 - val_loss: 0.5169 - val_accuracy: 0.7596\n",
      "Epoch 13/30\n",
      "11992/11992 [==============================] - 15s 1ms/step - loss: 0.3837 - accuracy: 0.8305 - val_loss: 0.4317 - val_accuracy: 0.7906\n",
      "Epoch 14/30\n",
      "11992/11992 [==============================] - 14s 1ms/step - loss: 0.3751 - accuracy: 0.8370 - val_loss: 0.3369 - val_accuracy: 0.8583\n",
      "Epoch 15/30\n",
      "11992/11992 [==============================] - 11s 911us/step - loss: 0.3719 - accuracy: 0.8412 - val_loss: 0.6316 - val_accuracy: 0.7369\n",
      "Epoch 16/30\n",
      "11992/11992 [==============================] - 9s 787us/step - loss: 0.3786 - accuracy: 0.8341 - val_loss: 0.3310 - val_accuracy: 0.8616\n",
      "Epoch 17/30\n",
      "11992/11992 [==============================] - 9s 745us/step - loss: 0.3654 - accuracy: 0.8425 - val_loss: 0.3344 - val_accuracy: 0.8569\n",
      "Epoch 18/30\n",
      "11992/11992 [==============================] - 10s 872us/step - loss: 0.3672 - accuracy: 0.8421 - val_loss: 0.4383 - val_accuracy: 0.8009\n",
      "Epoch 19/30\n",
      "11992/11992 [==============================] - 10s 827us/step - loss: 0.3647 - accuracy: 0.8436 - val_loss: 0.3297 - val_accuracy: 0.8595\n",
      "Epoch 20/30\n",
      "11992/11992 [==============================] - 10s 795us/step - loss: 0.3626 - accuracy: 0.8460 - val_loss: 0.3308 - val_accuracy: 0.8615\n",
      "Epoch 21/30\n",
      "11992/11992 [==============================] - 10s 854us/step - loss: 0.3732 - accuracy: 0.8378 - val_loss: 0.3365 - val_accuracy: 0.8570\n",
      "Epoch 22/30\n",
      "11992/11992 [==============================] - 10s 843us/step - loss: 0.3569 - accuracy: 0.8482 - val_loss: 0.3221 - val_accuracy: 0.8654\n",
      "Epoch 23/30\n",
      "11992/11992 [==============================] - 10s 807us/step - loss: 0.3576 - accuracy: 0.8458 - val_loss: 0.3202 - val_accuracy: 0.8659\n",
      "Epoch 24/30\n",
      "11992/11992 [==============================] - 11s 906us/step - loss: 0.3538 - accuracy: 0.8484 - val_loss: 0.3623 - val_accuracy: 0.8373\n",
      "Epoch 25/30\n",
      "11992/11992 [==============================] - 16s 1ms/step - loss: 0.3593 - accuracy: 0.8458 - val_loss: 0.3554 - val_accuracy: 0.8422\n",
      "Epoch 26/30\n",
      "11992/11992 [==============================] - 13s 1ms/step - loss: 0.3542 - accuracy: 0.8479 - val_loss: 0.3804 - val_accuracy: 0.8344\n",
      "Epoch 27/30\n",
      "11992/11992 [==============================] - 11s 958us/step - loss: 0.3603 - accuracy: 0.8445 - val_loss: 0.3674 - val_accuracy: 0.8268\n",
      "Epoch 28/30\n",
      "11992/11992 [==============================] - 9s 719us/step - loss: 0.3475 - accuracy: 0.8525 - val_loss: 0.3489 - val_accuracy: 0.8507\n",
      "Epoch 29/30\n",
      "11992/11992 [==============================] - 9s 715us/step - loss: 0.3429 - accuracy: 0.8539 - val_loss: 0.3116 - val_accuracy: 0.8711\n",
      "Epoch 30/30\n",
      "11992/11992 [==============================] - 8s 685us/step - loss: 0.3491 - accuracy: 0.8489 - val_loss: 0.3334 - val_accuracy: 0.8632\n"
     ]
    },
    {
     "data": {
      "text/plain": [
       "<keras.callbacks.callbacks.History at 0x7c1e27323f60>"
      ]
     },
     "execution_count": 16,
     "metadata": {},
     "output_type": "execute_result"
    }
   ],
   "source": [
    "model = Sequential()\n",
    "model.add(Bidirectional(LSTM(32, return_sequences=True), input_shape=(maxlen,max_features)))\n",
    "model.add(Dropout(0.5))\n",
    "model.add(Bidirectional(LSTM(32)))\n",
    "\n",
    "model.add(Dense(3, activation='sigmoid'))\n",
    "\n",
    "# try using different optimizers and different optimizer configs\n",
    "adam = Adam(lr=1e-4)\n",
    "model.compile(adam, 'binary_crossentropy', metrics=['accuracy'])\n",
    "\n",
    "print('Train...')\n",
    "model.fit(x_train, y_train,\n",
    "          batch_size=batch_size,\n",
    "          epochs=30,\n",
    "          validation_data=[x_test, y_test])"
   ]
  },
  {
   "cell_type": "markdown",
   "metadata": {},
   "source": [
    "# Validate"
   ]
  },
  {
   "cell_type": "code",
   "execution_count": 17,
   "metadata": {},
   "outputs": [],
   "source": [
    "n=2"
   ]
  },
  {
   "cell_type": "code",
   "execution_count": 18,
   "metadata": {},
   "outputs": [],
   "source": [
    "pred = np.argmax(model.predict(x_test[n].reshape(1,x_test[0].shape[0], 4)))"
   ]
  },
  {
   "cell_type": "code",
   "execution_count": 19,
   "metadata": {},
   "outputs": [],
   "source": [
    "map_dict={'0':'neg_corr', '1':'bm', '2':'pos_corr'}"
   ]
  },
  {
   "cell_type": "code",
   "execution_count": 20,
   "metadata": {},
   "outputs": [
    {
     "data": {
      "text/plain": [
       "'neg_corr'"
      ]
     },
     "execution_count": 20,
     "metadata": {},
     "output_type": "execute_result"
    }
   ],
   "source": [
    "map_dict.get(str(pred))"
   ]
  },
  {
   "cell_type": "code",
   "execution_count": 21,
   "metadata": {},
   "outputs": [
    {
     "data": {
      "text/plain": [
       "array([[-71.09849997, -70.72835675, -71.14479248, -70.73428931],\n",
       "       [-70.73676161, -70.38245245, -70.73890581, -70.40656994],\n",
       "       [-70.39996588, -70.2997438 , -70.41771669, -70.37704219],\n",
       "       [-70.3784609 , -70.3780377 , -70.4771061 , -70.4384555 ],\n",
       "       [-70.44503424, -70.39437557, -70.51911581, -70.39654132],\n",
       "       [-70.40312783, -70.14642093, -70.40312783, -70.15939179],\n",
       "       [-70.14842112, -69.2507572 , -70.14842112, -69.3087973 ],\n",
       "       [-69.24076037, -69.18381652, -69.72729991, -69.68298063],\n",
       "       [-69.69091811, -69.5200152 , -69.95750808, -69.7385591 ],\n",
       "       [-69.78132304, -69.34943721, -69.99512665, -69.47225387]])"
      ]
     },
     "execution_count": 21,
     "metadata": {},
     "output_type": "execute_result"
    }
   ],
   "source": [
    "x_test[n]"
   ]
  },
  {
   "cell_type": "code",
   "execution_count": 22,
   "metadata": {},
   "outputs": [],
   "source": [
    "assert np.argmax(y_test[n]) == pred, print(\"Prediction Error\")"
   ]
  },
  {
   "cell_type": "code",
   "execution_count": 44,
   "metadata": {},
   "outputs": [],
   "source": [
    "df[['O', 'H', 'L', 'C']].to_csv('test.csv', index=False)"
   ]
  },
  {
   "cell_type": "code",
   "execution_count": 41,
   "metadata": {},
   "outputs": [
    {
     "data": {
      "text/plain": [
       "8023"
      ]
     },
     "execution_count": 41,
     "metadata": {},
     "output_type": "execute_result"
    }
   ],
   "source": [
    "df[df['Hurst']<0.5].shape[0]"
   ]
  },
  {
   "cell_type": "code",
   "execution_count": null,
   "metadata": {},
   "outputs": [],
   "source": []
  }
 ],
 "metadata": {
  "kernelspec": {
   "display_name": "Python 3",
   "language": "python",
   "name": "python3"
  },
  "language_info": {
   "codemirror_mode": {
    "name": "ipython",
    "version": 3
   },
   "file_extension": ".py",
   "mimetype": "text/x-python",
   "name": "python",
   "nbconvert_exporter": "python",
   "pygments_lexer": "ipython3",
   "version": "3.6.10"
  }
 },
 "nbformat": 4,
 "nbformat_minor": 4
}
