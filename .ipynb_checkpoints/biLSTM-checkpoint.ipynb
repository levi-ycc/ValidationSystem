{
 "cells": [
  {
   "cell_type": "code",
   "execution_count": 3,
   "metadata": {},
   "outputs": [
    {
     "name": "stderr",
     "output_type": "stream",
     "text": [
      "Using TensorFlow backend.\n"
     ]
    }
   ],
   "source": [
    "from __future__ import print_function\n",
    "import numpy as np\n",
    "\n",
    "from keras.preprocessing import sequence\n",
    "from keras.models import Sequential\n",
    "from keras.layers import Dense, Dropout, Embedding, LSTM, Bidirectional\n",
    "from keras.datasets import imdb\n",
    "from keras.optimizers import Adam\n",
    "\n",
    "import numpy as np\n",
    "import pandas as pd"
   ]
  },
  {
   "cell_type": "code",
   "execution_count": 4,
   "metadata": {},
   "outputs": [],
   "source": [
    "from lib.stochastic import ConnectedBrownianMotion"
   ]
  },
  {
   "cell_type": "code",
   "execution_count": 5,
   "metadata": {},
   "outputs": [],
   "source": [
    "def create_dataset(X, y, time_steps=1):\n",
    "    Xs, ys = [], []\n",
    "    for i in range(len(X) - time_steps):\n",
    "        v = X.iloc[i:(i + time_steps)].values\n",
    "        Xs.append(v)\n",
    "        ys.append(y.iloc[i + time_steps])\n",
    "    return np.array(Xs), np.array(ys)"
   ]
  },
  {
   "cell_type": "code",
   "execution_count": 6,
   "metadata": {},
   "outputs": [],
   "source": [
    "cb = ConnectedBrownianMotion(tick_length=18000)"
   ]
  },
  {
   "cell_type": "code",
   "execution_count": 7,
   "metadata": {},
   "outputs": [],
   "source": [
    "df = pd.DataFrame()\n",
    "for i in cb.make_days(100):\n",
    "    df=df.append(i, ignore_index=True)"
   ]
  },
  {
   "cell_type": "code",
   "execution_count": 9,
   "metadata": {
    "scrolled": true
   },
   "outputs": [],
   "source": [
    "X=df[['O','H','L','C']]\n",
    "y=df[['Hurst']]\n",
    "data = create_dataset(X, y, 10)"
   ]
  },
  {
   "cell_type": "code",
   "execution_count": 13,
   "metadata": {},
   "outputs": [
    {
     "data": {
      "text/plain": [
       "(14990, 10, 4)"
      ]
     },
     "execution_count": 13,
     "metadata": {},
     "output_type": "execute_result"
    }
   ],
   "source": [
    "data[0].shape"
   ]
  },
  {
   "cell_type": "code",
   "execution_count": 14,
   "metadata": {},
   "outputs": [],
   "source": [
    "split = 0.8\n",
    "total_data = data[0].shape[0]\n",
    "end_ptr = int(total_data*split)"
   ]
  },
  {
   "cell_type": "code",
   "execution_count": 29,
   "metadata": {},
   "outputs": [],
   "source": [
    "x_train = data[0][:end_ptr]\n",
    "y_train = data[1][:end_ptr]\n",
    "x_test = data[0][end_ptr:]\n",
    "y_test = data[1][end_ptr:]"
   ]
  },
  {
   "cell_type": "code",
   "execution_count": 30,
   "metadata": {},
   "outputs": [],
   "source": [
    "update_y_train = np.zeros([y_train.shape[0], 3])\n",
    "\n",
    "for y in range(y_train.shape[0]):\n",
    "    if y_train[y] < 0.5:\n",
    "        update_y_train[y][0] = 1\n",
    "        update_y_train[y][1] = 0\n",
    "        update_y_train[y][2] = 0\n",
    "    elif y_train[y] > 0.5:\n",
    "        update_y_train[y][0] = 0\n",
    "        update_y_train[y][1] = 0\n",
    "        update_y_train[y][2] = 1\n",
    "    else:\n",
    "        update_y_train[y][0] = 0\n",
    "        update_y_train[y][1] = 1\n",
    "        update_y_train[y][2] = 0"
   ]
  },
  {
   "cell_type": "code",
   "execution_count": 31,
   "metadata": {},
   "outputs": [],
   "source": [
    "update_y_test = np.zeros([y_test.shape[0], 3])\n",
    "\n",
    "for y in range(y_test.shape[0]):\n",
    "    if y_test[y] < 0.5:\n",
    "        update_y_test[y][0] = 1\n",
    "        update_y_test[y][1] = 0\n",
    "        update_y_test[y][2] = 0\n",
    "    elif y_test[y] > 0.5:\n",
    "        update_y_test[y][0] = 0\n",
    "        update_y_test[y][1] = 0\n",
    "        update_y_test[y][2] = 1\n",
    "    else:\n",
    "        update_y_test[y][0] = 0\n",
    "        update_y_test[y][1] = 1\n",
    "        update_y_test[y][2] = 0"
   ]
  },
  {
   "cell_type": "code",
   "execution_count": 32,
   "metadata": {},
   "outputs": [
    {
     "data": {
      "text/plain": [
       "array([[ 0.01356546,  0.06467253, -0.16302062, -0.16032337],\n",
       "       [-0.15339024, -0.07523949, -0.28087203, -0.28087203],\n",
       "       [-0.28399579, -0.09463316, -0.29000884, -0.1450419 ],\n",
       "       [-0.13505228, -0.11764316, -0.19442872, -0.18826724],\n",
       "       [-0.1795617 , -0.08278425, -0.24777807, -0.13179326],\n",
       "       [-0.13125696, -0.10638749, -0.25612264, -0.25612264],\n",
       "       [-0.26605348, -0.15998299, -0.29279894, -0.25662227],\n",
       "       [-0.25885107, -0.03188533, -0.25885107, -0.14425934],\n",
       "       [-0.13122127,  0.20468772, -0.16747898,  0.19916502],\n",
       "       [ 0.19870827,  0.4782813 ,  0.1728059 ,  0.4782813 ]])"
      ]
     },
     "execution_count": 32,
     "metadata": {},
     "output_type": "execute_result"
    }
   ],
   "source": [
    "x_train[0]"
   ]
  },
  {
   "cell_type": "code",
   "execution_count": 35,
   "metadata": {},
   "outputs": [],
   "source": [
    "max_features = 4\n",
    "maxlen = 10\n",
    "batch_size = 32\n",
    "y_train = np.array(update_y_train)\n",
    "y_test = np.array(update_y_test)"
   ]
  },
  {
   "cell_type": "code",
   "execution_count": 36,
   "metadata": {},
   "outputs": [
    {
     "data": {
      "text/plain": [
       "(11992, 10, 4)"
      ]
     },
     "execution_count": 36,
     "metadata": {},
     "output_type": "execute_result"
    }
   ],
   "source": [
    "x_train.shape"
   ]
  },
  {
   "cell_type": "code",
   "execution_count": 38,
   "metadata": {},
   "outputs": [
    {
     "name": "stdout",
     "output_type": "stream",
     "text": [
      "Train...\n",
      "Train on 11992 samples, validate on 2998 samples\n",
      "Epoch 1/10\n",
      "11992/11992 [==============================] - 9s 764us/step - loss: 0.5684 - accuracy: 0.6650 - val_loss: 0.4877 - val_accuracy: 0.7125\n",
      "Epoch 2/10\n",
      "11992/11992 [==============================] - 8s 654us/step - loss: 0.4868 - accuracy: 0.7335 - val_loss: 0.4649 - val_accuracy: 0.7695\n",
      "Epoch 3/10\n",
      "11992/11992 [==============================] - 11s 893us/step - loss: 0.4384 - accuracy: 0.8085 - val_loss: 0.3851 - val_accuracy: 0.8471\n",
      "Epoch 4/10\n",
      "11992/11992 [==============================] - 9s 746us/step - loss: 0.3524 - accuracy: 0.8508 - val_loss: 0.3115 - val_accuracy: 0.8753\n",
      "Epoch 5/10\n",
      "11992/11992 [==============================] - 9s 726us/step - loss: 0.3166 - accuracy: 0.8660 - val_loss: 0.3009 - val_accuracy: 0.8808\n",
      "Epoch 6/10\n",
      "11992/11992 [==============================] - 9s 728us/step - loss: 0.3041 - accuracy: 0.8705 - val_loss: 0.2889 - val_accuracy: 0.8834\n",
      "Epoch 7/10\n",
      "11992/11992 [==============================] - 9s 741us/step - loss: 0.2963 - accuracy: 0.8769 - val_loss: 0.2856 - val_accuracy: 0.8870\n",
      "Epoch 8/10\n",
      "11992/11992 [==============================] - 9s 732us/step - loss: 0.2924 - accuracy: 0.8779 - val_loss: 0.2794 - val_accuracy: 0.8859\n",
      "Epoch 9/10\n",
      "11992/11992 [==============================] - 9s 737us/step - loss: 0.2900 - accuracy: 0.8796 - val_loss: 0.2814 - val_accuracy: 0.8836\n",
      "Epoch 10/10\n",
      "11992/11992 [==============================] - 9s 766us/step - loss: 0.2859 - accuracy: 0.8814 - val_loss: 0.2729 - val_accuracy: 0.8891\n"
     ]
    },
    {
     "data": {
      "text/plain": [
       "<keras.callbacks.callbacks.History at 0x7b040425df98>"
      ]
     },
     "execution_count": 38,
     "metadata": {},
     "output_type": "execute_result"
    }
   ],
   "source": [
    "\n",
    "\n",
    "model = Sequential()\n",
    "model.add(Bidirectional(LSTM(32, return_sequences=True), input_shape=(maxlen,max_features)))\n",
    "model.add(Dropout(0.5))\n",
    "model.add(Bidirectional(LSTM(32), input_shape=(1,1)))\n",
    "\n",
    "model.add(Dense(3, activation='sigmoid'))\n",
    "\n",
    "# try using different optimizers and different optimizer configs\n",
    "adam = Adam(lr=1e-4)\n",
    "model.compile(adam, 'binary_crossentropy', metrics=['accuracy'])\n",
    "\n",
    "print('Train...')\n",
    "model.fit(x_train, y_train,\n",
    "          batch_size=batch_size,\n",
    "          epochs=10,\n",
    "          validation_data=[x_test, y_test])"
   ]
  },
  {
   "cell_type": "code",
   "execution_count": 39,
   "metadata": {},
   "outputs": [],
   "source": [
    "n=105"
   ]
  },
  {
   "cell_type": "code",
   "execution_count": 44,
   "metadata": {},
   "outputs": [],
   "source": [
    "pred = np.argmax(model.predict(x_test[n].reshape(1,x_test[0].shape[0], 4)))"
   ]
  },
  {
   "cell_type": "code",
   "execution_count": 45,
   "metadata": {},
   "outputs": [],
   "source": [
    "map_dict={'0':'neg_corr', '1':'bm', '2':'pos_corr'}"
   ]
  },
  {
   "cell_type": "code",
   "execution_count": 46,
   "metadata": {},
   "outputs": [
    {
     "data": {
      "text/plain": [
       "'pos_corr'"
      ]
     },
     "execution_count": 46,
     "metadata": {},
     "output_type": "execute_result"
    }
   ],
   "source": [
    "map_dict.get(str(pred))"
   ]
  },
  {
   "cell_type": "code",
   "execution_count": 47,
   "metadata": {},
   "outputs": [
    {
     "data": {
      "text/plain": [
       "array([[3.82709195, 4.15273444, 3.78789971, 4.14758922],\n",
       "       [4.14031469, 4.17853593, 4.03053027, 4.17853593],\n",
       "       [4.18840183, 4.55930813, 4.18662208, 4.53766789],\n",
       "       [4.54319714, 4.66494389, 4.42050767, 4.64810657],\n",
       "       [4.67104562, 4.84736767, 4.62984331, 4.84736767],\n",
       "       [4.85374662, 5.08963821, 4.85374662, 4.99942727],\n",
       "       [5.00213973, 5.04801812, 4.85587141, 4.85587141],\n",
       "       [4.85461089, 4.89689957, 4.66806867, 4.7717113 ],\n",
       "       [4.78014708, 4.9038264 , 4.75744359, 4.89802619],\n",
       "       [4.9066777 , 5.12011466, 4.87669469, 4.91928708]])"
      ]
     },
     "execution_count": 47,
     "metadata": {},
     "output_type": "execute_result"
    }
   ],
   "source": [
    "x_test[n]"
   ]
  },
  {
   "cell_type": "code",
   "execution_count": 48,
   "metadata": {},
   "outputs": [
    {
     "data": {
      "text/plain": [
       "array([0., 0., 1.])"
      ]
     },
     "execution_count": 48,
     "metadata": {},
     "output_type": "execute_result"
    }
   ],
   "source": [
    "y_test[n]"
   ]
  },
  {
   "cell_type": "code",
   "execution_count": 49,
   "metadata": {},
   "outputs": [
    {
     "data": {
      "text/plain": [
       "2"
      ]
     },
     "execution_count": 49,
     "metadata": {},
     "output_type": "execute_result"
    }
   ],
   "source": [
    "pred"
   ]
  },
  {
   "cell_type": "code",
   "execution_count": 50,
   "metadata": {},
   "outputs": [
    {
     "data": {
      "text/plain": [
       "[0.53, 0.34, 0.45, 0.51, 0.37, 0.6, 0.49]"
      ]
     },
     "execution_count": 50,
     "metadata": {},
     "output_type": "execute_result"
    }
   ],
   "source": [
    "list(dict.fromkeys(cb.hurst_list))"
   ]
  },
  {
   "cell_type": "code",
   "execution_count": 51,
   "metadata": {},
   "outputs": [
    {
     "data": {
      "text/plain": [
       "[0.53, 0.34, 0.45, 0.51, 0.37, 0.6, 0.49]"
      ]
     },
     "execution_count": 51,
     "metadata": {},
     "output_type": "execute_result"
    }
   ],
   "source": [
    "list(dict.fromkeys(cb.hurst_list))"
   ]
  },
  {
   "cell_type": "code",
   "execution_count": null,
   "metadata": {},
   "outputs": [],
   "source": []
  }
 ],
 "metadata": {
  "kernelspec": {
   "display_name": "Python 3",
   "language": "python",
   "name": "python3"
  },
  "language_info": {
   "codemirror_mode": {
    "name": "ipython",
    "version": 3
   },
   "file_extension": ".py",
   "mimetype": "text/x-python",
   "name": "python",
   "nbconvert_exporter": "python",
   "pygments_lexer": "ipython3",
   "version": "3.6.10"
  }
 },
 "nbformat": 4,
 "nbformat_minor": 4
}
