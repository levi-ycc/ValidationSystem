{
 "cells": [
  {
   "cell_type": "code",
   "execution_count": 1,
   "metadata": {},
   "outputs": [
    {
     "name": "stderr",
     "output_type": "stream",
     "text": [
      "Using TensorFlow backend.\n"
     ]
    }
   ],
   "source": [
    "from __future__ import print_function\n",
    "import numpy as np\n",
    "\n",
    "from keras.models import Sequential\n",
    "from keras.layers import Dense, Dropout, LSTM, Bidirectional\n",
    "from keras.optimizers import Adam\n",
    "\n",
    "import numpy as np\n",
    "import pandas as pd"
   ]
  },
  {
   "cell_type": "code",
   "execution_count": 2,
   "metadata": {},
   "outputs": [],
   "source": [
    "from lib.stochastic import ConnectedBrownianMotion"
   ]
  },
  {
   "cell_type": "markdown",
   "metadata": {},
   "source": [
    "# Data processing"
   ]
  },
  {
   "cell_type": "code",
   "execution_count": 3,
   "metadata": {},
   "outputs": [],
   "source": [
    "def create_dataset(X, y, time_steps=1):\n",
    "    Xs, ys = [], []\n",
    "    for i in range(len(X) - time_steps):\n",
    "        v = X.iloc[i:(i + time_steps)].values\n",
    "        Xs.append(v)\n",
    "        ys.append(y.iloc[i + time_steps])\n",
    "    return np.array(Xs), np.array(ys)"
   ]
  },
  {
   "cell_type": "code",
   "execution_count": 4,
   "metadata": {},
   "outputs": [],
   "source": [
    "cb = ConnectedBrownianMotion(tick_length=18000)"
   ]
  },
  {
   "cell_type": "code",
   "execution_count": 5,
   "metadata": {},
   "outputs": [],
   "source": [
    "df = pd.DataFrame()\n",
    "for i in cb.make_days(100):\n",
    "    df=df.append(i, ignore_index=True)"
   ]
  },
  {
   "cell_type": "code",
   "execution_count": 6,
   "metadata": {
    "scrolled": true
   },
   "outputs": [],
   "source": [
    "X=df[['O','H','L','C']]\n",
    "y=df[['Hurst']]\n",
    "data = create_dataset(X, y, 10)"
   ]
  },
  {
   "cell_type": "code",
   "execution_count": 7,
   "metadata": {},
   "outputs": [
    {
     "data": {
      "text/plain": [
       "[<matplotlib.lines.Line2D at 0x7a55e72709e8>]"
      ]
     },
     "execution_count": 7,
     "metadata": {},
     "output_type": "execute_result"
    },
    {
     "data": {
      "image/png": "[encoded data removed]",
      "text/plain": [
       "<Figure size 432x288 with 1 Axes>"
      ]
     },
     "metadata": {
      "needs_background": "light"
     },
     "output_type": "display_data"
    }
   ],
   "source": [
    "import matplotlib.pyplot as plt\n",
    "plt.plot(X['C'])"
   ]
  },
  {
   "cell_type": "code",
   "execution_count": 8,
   "metadata": {},
   "outputs": [
    {
     "data": {
      "text/plain": [
       "(14990, 10, 4)"
      ]
     },
     "execution_count": 8,
     "metadata": {},
     "output_type": "execute_result"
    }
   ],
   "source": [
    "data[0].shape"
   ]
  },
  {
   "cell_type": "code",
   "execution_count": 9,
   "metadata": {},
   "outputs": [],
   "source": [
    "split = 0.8\n",
    "total_data = data[0].shape[0]\n",
    "end_ptr = int(total_data*split)"
   ]
  },
  {
   "cell_type": "code",
   "execution_count": 10,
   "metadata": {},
   "outputs": [],
   "source": [
    "x_train = data[0][:end_ptr]\n",
    "y_train = data[1][:end_ptr]\n",
    "x_test = data[0][end_ptr:]\n",
    "y_test = data[1][end_ptr:]"
   ]
  },
  {
   "cell_type": "code",
   "execution_count": 11,
   "metadata": {},
   "outputs": [],
   "source": [
    "update_y_train = np.zeros([y_train.shape[0], 3])\n",
    "\n",
    "for y in range(y_train.shape[0]):\n",
    "    if y_train[y] < 0.5:\n",
    "        update_y_train[y][0] = 1\n",
    "        update_y_train[y][1] = 0\n",
    "        update_y_train[y][2] = 0\n",
    "    elif y_train[y] > 0.5:\n",
    "        update_y_train[y][0] = 0\n",
    "        update_y_train[y][1] = 0\n",
    "        update_y_train[y][2] = 1\n",
    "    else:\n",
    "        update_y_train[y][0] = 0\n",
    "        update_y_train[y][1] = 1\n",
    "        update_y_train[y][2] = 0"
   ]
  },
  {
   "cell_type": "code",
   "execution_count": 12,
   "metadata": {},
   "outputs": [],
   "source": [
    "update_y_test = np.zeros([y_test.shape[0], 3])\n",
    "\n",
    "for y in range(y_test.shape[0]):\n",
    "    if y_test[y] < 0.5:\n",
    "        update_y_test[y][0] = 1\n",
    "        update_y_test[y][1] = 0\n",
    "        update_y_test[y][2] = 0\n",
    "    elif y_test[y] > 0.5:\n",
    "        update_y_test[y][0] = 0\n",
    "        update_y_test[y][1] = 0\n",
    "        update_y_test[y][2] = 1\n",
    "    else:\n",
    "        update_y_test[y][0] = 0\n",
    "        update_y_test[y][1] = 1\n",
    "        update_y_test[y][2] = 0"
   ]
  },
  {
   "cell_type": "code",
   "execution_count": 13,
   "metadata": {},
   "outputs": [
    {
     "data": {
      "text/plain": [
       "array([[-0.02853723,  0.64878457, -0.02853723,  0.64870813],\n",
       "       [ 0.65077136,  0.65128955,  0.1297499 ,  0.21646594],\n",
       "       [ 0.20940497,  0.59125507,  0.20940497,  0.59125507],\n",
       "       [ 0.60781908,  0.7313557 ,  0.43510172,  0.6219866 ],\n",
       "       [ 0.66731357,  0.69737864,  0.336239  ,  0.41274084],\n",
       "       [ 0.45380319,  0.62030118,  0.25414714,  0.44281711],\n",
       "       [ 0.45164187,  0.63883869,  0.03423878,  0.08591856],\n",
       "       [ 0.08233198,  0.13997938, -0.29627098, -0.28028889],\n",
       "       [-0.27061304, -0.07027717, -0.86370229, -0.78573828],\n",
       "       [-0.85718401, -0.39971598, -0.86620108, -0.44848621]])"
      ]
     },
     "execution_count": 13,
     "metadata": {},
     "output_type": "execute_result"
    }
   ],
   "source": [
    "x_train[0]"
   ]
  },
  {
   "cell_type": "code",
   "execution_count": 14,
   "metadata": {},
   "outputs": [],
   "source": [
    "max_features = 4\n",
    "maxlen = 10\n",
    "batch_size = 32\n",
    "y_train = np.array(update_y_train)\n",
    "y_test = np.array(update_y_test)"
   ]
  },
  {
   "cell_type": "code",
   "execution_count": 15,
   "metadata": {},
   "outputs": [
    {
     "data": {
      "text/plain": [
       "(11992, 10, 4)"
      ]
     },
     "execution_count": 15,
     "metadata": {},
     "output_type": "execute_result"
    }
   ],
   "source": [
    "x_train.shape"
   ]
  },
  {
   "cell_type": "markdown",
   "metadata": {},
   "source": [
    "# Model"
   ]
  },
  {
   "cell_type": "code",
   "execution_count": 16,
   "metadata": {},
   "outputs": [
    {
     "name": "stdout",
     "output_type": "stream",
     "text": [
      "Train...\n",
      "Train on 11992 samples, validate on 2998 samples\n",
      "Epoch 1/10\n",
      "11992/11992 [==============================] - 11s 885us/step - loss: 0.5501 - accuracy: 0.6563 - val_loss: 0.5004 - val_accuracy: 0.7319\n",
      "Epoch 2/10\n",
      "11992/11992 [==============================] - 8s 663us/step - loss: 0.4968 - accuracy: 0.7060 - val_loss: 0.4886 - val_accuracy: 0.7062\n",
      "Epoch 3/10\n",
      "11992/11992 [==============================] - 10s 822us/step - loss: 0.4448 - accuracy: 0.7830 - val_loss: 0.4042 - val_accuracy: 0.8088\n",
      "Epoch 4/10\n",
      "11992/11992 [==============================] - 9s 789us/step - loss: 0.3493 - accuracy: 0.8457 - val_loss: 0.3853 - val_accuracy: 0.8262\n",
      "Epoch 5/10\n",
      "11992/11992 [==============================] - 9s 761us/step - loss: 0.3281 - accuracy: 0.8661 - val_loss: 0.3490 - val_accuracy: 0.8447\n",
      "Epoch 6/10\n",
      "11992/11992 [==============================] - 9s 750us/step - loss: 0.3164 - accuracy: 0.8731 - val_loss: 0.3470 - val_accuracy: 0.8433\n",
      "Epoch 7/10\n",
      "11992/11992 [==============================] - 9s 739us/step - loss: 0.3034 - accuracy: 0.8763 - val_loss: 0.3522 - val_accuracy: 0.8410\n",
      "Epoch 8/10\n",
      "11992/11992 [==============================] - 9s 756us/step - loss: 0.2980 - accuracy: 0.8787 - val_loss: 0.3464 - val_accuracy: 0.8409\n",
      "Epoch 9/10\n",
      "11992/11992 [==============================] - 9s 757us/step - loss: 0.2925 - accuracy: 0.8811 - val_loss: 0.3513 - val_accuracy: 0.8401\n",
      "Epoch 10/10\n",
      "11992/11992 [==============================] - 10s 801us/step - loss: 0.2901 - accuracy: 0.8820 - val_loss: 0.3488 - val_accuracy: 0.8442\n"
     ]
    },
    {
     "data": {
      "text/plain": [
       "<keras.callbacks.callbacks.History at 0x7a55e7870f28>"
      ]
     },
     "execution_count": 16,
     "metadata": {},
     "output_type": "execute_result"
    }
   ],
   "source": [
    "model = Sequential()\n",
    "model.add(Bidirectional(LSTM(32, return_sequences=True), input_shape=(maxlen,max_features)))\n",
    "model.add(Dropout(0.5))\n",
    "model.add(Bidirectional(LSTM(32)))\n",
    "\n",
    "model.add(Dense(3, activation='sigmoid'))\n",
    "\n",
    "# try using different optimizers and different optimizer configs\n",
    "adam = Adam(lr=1e-4)\n",
    "model.compile(adam, 'binary_crossentropy', metrics=['accuracy'])\n",
    "\n",
    "print('Train...')\n",
    "model.fit(x_train, y_train,\n",
    "          batch_size=batch_size,\n",
    "          epochs=10,\n",
    "          validation_data=[x_test, y_test])"
   ]
  },
  {
   "cell_type": "markdown",
   "metadata": {},
   "source": [
    "# Validate"
   ]
  },
  {
   "cell_type": "code",
   "execution_count": 38,
   "metadata": {},
   "outputs": [],
   "source": [
    "n=2"
   ]
  },
  {
   "cell_type": "code",
   "execution_count": 39,
   "metadata": {},
   "outputs": [],
   "source": [
    "pred = np.argmax(model.predict(x_test[n].reshape(1,x_test[0].shape[0], 4)))"
   ]
  },
  {
   "cell_type": "code",
   "execution_count": 40,
   "metadata": {},
   "outputs": [],
   "source": [
    "map_dict={'0':'neg_corr', '1':'bm', '2':'pos_corr'}"
   ]
  },
  {
   "cell_type": "code",
   "execution_count": 41,
   "metadata": {},
   "outputs": [
    {
     "data": {
      "text/plain": [
       "'neg_corr'"
      ]
     },
     "execution_count": 41,
     "metadata": {},
     "output_type": "execute_result"
    }
   ],
   "source": [
    "map_dict.get(str(pred))"
   ]
  },
  {
   "cell_type": "code",
   "execution_count": 42,
   "metadata": {},
   "outputs": [
    {
     "data": {
      "text/plain": [
       "array([[ -9.55249179,  -9.52839041,  -9.82260196,  -9.82260196],\n",
       "       [ -9.8578632 ,  -9.82861865, -10.10379423,  -9.8500697 ],\n",
       "       [ -9.84837826,  -9.84837826, -10.27287704, -10.08304312],\n",
       "       [-10.09565137, -10.09565137, -10.45958505, -10.35471034],\n",
       "       [-10.34173013, -10.0401075 , -10.45201681, -10.26830862],\n",
       "       [-10.24300457,  -8.40317216, -10.2730699 ,  -8.60172181],\n",
       "       [ -8.65287576,  -8.08418399,  -8.74747407,  -8.20510459],\n",
       "       [ -8.18291521,  -8.06716743,  -8.84645359,  -8.51222152],\n",
       "       [ -8.59597678,  -8.3185064 ,  -9.12142259,  -8.64216352],\n",
       "       [ -8.71548702,  -8.49906208,  -8.96657133,  -8.96657133]])"
      ]
     },
     "execution_count": 42,
     "metadata": {},
     "output_type": "execute_result"
    }
   ],
   "source": [
    "x_test[n]"
   ]
  },
  {
   "cell_type": "code",
   "execution_count": 43,
   "metadata": {},
   "outputs": [],
   "source": [
    "assert np.argmax(y_test[n]) == pred, print(\"Prediction Error\")"
   ]
  },
  {
   "cell_type": "code",
   "execution_count": 46,
   "metadata": {},
   "outputs": [
    {
     "data": {
      "text/html": [
       "<div>\n",
       "<style scoped>\n",
       "    .dataframe tbody tr th:only-of-type {\n",
       "        vertical-align: middle;\n",
       "    }\n",
       "\n",
       "    .dataframe tbody tr th {\n",
       "        vertical-align: top;\n",
       "    }\n",
       "\n",
       "    .dataframe thead th {\n",
       "        text-align: right;\n",
       "    }\n",
       "</style>\n",
       "<table border=\"1\" class=\"dataframe\">\n",
       "  <thead>\n",
       "    <tr style=\"text-align: right;\">\n",
       "      <th></th>\n",
       "      <th>O</th>\n",
       "      <th>H</th>\n",
       "      <th>L</th>\n",
       "      <th>C</th>\n",
       "    </tr>\n",
       "  </thead>\n",
       "  <tbody>\n",
       "    <tr>\n",
       "      <th>0</th>\n",
       "      <td>-0.028537</td>\n",
       "      <td>0.648785</td>\n",
       "      <td>-0.028537</td>\n",
       "      <td>0.648708</td>\n",
       "    </tr>\n",
       "    <tr>\n",
       "      <th>1</th>\n",
       "      <td>0.650771</td>\n",
       "      <td>0.651290</td>\n",
       "      <td>0.129750</td>\n",
       "      <td>0.216466</td>\n",
       "    </tr>\n",
       "    <tr>\n",
       "      <th>2</th>\n",
       "      <td>0.209405</td>\n",
       "      <td>0.591255</td>\n",
       "      <td>0.209405</td>\n",
       "      <td>0.591255</td>\n",
       "    </tr>\n",
       "    <tr>\n",
       "      <th>3</th>\n",
       "      <td>0.607819</td>\n",
       "      <td>0.731356</td>\n",
       "      <td>0.435102</td>\n",
       "      <td>0.621987</td>\n",
       "    </tr>\n",
       "    <tr>\n",
       "      <th>4</th>\n",
       "      <td>0.667314</td>\n",
       "      <td>0.697379</td>\n",
       "      <td>0.336239</td>\n",
       "      <td>0.412741</td>\n",
       "    </tr>\n",
       "    <tr>\n",
       "      <th>...</th>\n",
       "      <td>...</td>\n",
       "      <td>...</td>\n",
       "      <td>...</td>\n",
       "      <td>...</td>\n",
       "    </tr>\n",
       "    <tr>\n",
       "      <th>14995</th>\n",
       "      <td>2.242879</td>\n",
       "      <td>2.737838</td>\n",
       "      <td>2.040534</td>\n",
       "      <td>2.040534</td>\n",
       "    </tr>\n",
       "    <tr>\n",
       "      <th>14996</th>\n",
       "      <td>1.931709</td>\n",
       "      <td>2.616066</td>\n",
       "      <td>1.681955</td>\n",
       "      <td>2.249611</td>\n",
       "    </tr>\n",
       "    <tr>\n",
       "      <th>14997</th>\n",
       "      <td>2.350050</td>\n",
       "      <td>3.016746</td>\n",
       "      <td>1.979414</td>\n",
       "      <td>2.724233</td>\n",
       "    </tr>\n",
       "    <tr>\n",
       "      <th>14998</th>\n",
       "      <td>2.616430</td>\n",
       "      <td>3.059918</td>\n",
       "      <td>1.614615</td>\n",
       "      <td>2.251040</td>\n",
       "    </tr>\n",
       "    <tr>\n",
       "      <th>14999</th>\n",
       "      <td>2.318778</td>\n",
       "      <td>3.557029</td>\n",
       "      <td>1.969361</td>\n",
       "      <td>3.557029</td>\n",
       "    </tr>\n",
       "  </tbody>\n",
       "</table>\n",
       "<p>15000 rows × 4 columns</p>\n",
       "</div>"
      ],
      "text/plain": [
       "              O         H         L         C\n",
       "0     -0.028537  0.648785 -0.028537  0.648708\n",
       "1      0.650771  0.651290  0.129750  0.216466\n",
       "2      0.209405  0.591255  0.209405  0.591255\n",
       "3      0.607819  0.731356  0.435102  0.621987\n",
       "4      0.667314  0.697379  0.336239  0.412741\n",
       "...         ...       ...       ...       ...\n",
       "14995  2.242879  2.737838  2.040534  2.040534\n",
       "14996  1.931709  2.616066  1.681955  2.249611\n",
       "14997  2.350050  3.016746  1.979414  2.724233\n",
       "14998  2.616430  3.059918  1.614615  2.251040\n",
       "14999  2.318778  3.557029  1.969361  3.557029\n",
       "\n",
       "[15000 rows x 4 columns]"
      ]
     },
     "execution_count": 46,
     "metadata": {},
     "output_type": "execute_result"
    }
   ],
   "source": [
    "df[['O', 'H', 'L', 'C']]"
   ]
  },
  {
   "cell_type": "code",
   "execution_count": null,
   "metadata": {},
   "outputs": [],
   "source": []
  }
 ],
 "metadata": {
  "kernelspec": {
   "display_name": "Python 3",
   "language": "python",
   "name": "python3"
  },
  "language_info": {
   "codemirror_mode": {
    "name": "ipython",
    "version": 3
   },
   "file_extension": ".py",
   "mimetype": "text/x-python",
   "name": "python",
   "nbconvert_exporter": "python",
   "pygments_lexer": "ipython3",
   "version": "3.6.10"
  }
 },
 "nbformat": 4,
 "nbformat_minor": 4
}
