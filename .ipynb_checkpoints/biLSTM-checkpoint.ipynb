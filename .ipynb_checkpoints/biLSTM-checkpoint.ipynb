{
 "cells": [
  {
   "cell_type": "code",
   "execution_count": 1,
   "metadata": {},
   "outputs": [
    {
     "name": "stderr",
     "output_type": "stream",
     "text": [
      "Using TensorFlow backend.\n"
     ]
    }
   ],
   "source": [
    "from __future__ import print_function\n",
    "import numpy as np\n",
    "\n",
    "from keras.preprocessing import sequence\n",
    "from keras.models import Sequential\n",
    "from keras.layers import Dense, Dropout, Embedding, LSTM, Bidirectional\n",
    "from keras.datasets import imdb\n",
    "\n",
    "import numpy as np"
   ]
  },
  {
   "cell_type": "code",
   "execution_count": 2,
   "metadata": {},
   "outputs": [],
   "source": [
    "from lib.stochastic import ConnectedBrownianMotion"
   ]
  },
  {
   "cell_type": "code",
   "execution_count": 3,
   "metadata": {},
   "outputs": [],
   "source": [
    "cb = ConnectedBrownianMotion(tick_length=18000)"
   ]
  },
  {
   "cell_type": "code",
   "execution_count": 4,
   "metadata": {},
   "outputs": [],
   "source": [
    "data = cb.generate_ticks()"
   ]
  },
  {
   "cell_type": "code",
   "execution_count": 32,
   "metadata": {},
   "outputs": [],
   "source": [
    "split = 0.8\n",
    "total_data = len(data)\n",
    "end_ptr = int(total_data*split)"
   ]
  },
  {
   "cell_type": "code",
   "execution_count": 33,
   "metadata": {},
   "outputs": [],
   "source": [
    "median = np.median(total_data)\n",
    "max_v = np.max(total_data)\n",
    "data = (data-median)/max_v"
   ]
  },
  {
   "cell_type": "code",
   "execution_count": 35,
   "metadata": {},
   "outputs": [],
   "source": [
    "x_train = data[:end_ptr]\n",
    "y_train = np.asarray(cb.hurst_list[:end_ptr])\n",
    "x_test = data[end_ptr:]\n",
    "y_test = np.asarray(cb.hurst_list[end_ptr:])\n",
    "x_train = np.asarray([[x] for x in x_train])\n",
    "x_test = np.asarray([[x] for x in x_test])\n",
    "x_train = np.reshape(x_train, (x_train.shape[0], 1, x_train.shape[1]))\n",
    "x_test = np.reshape(x_test, (x_test.shape[0], 1, x_test.shape[1]))\n"
   ]
  },
  {
   "cell_type": "code",
   "execution_count": 36,
   "metadata": {},
   "outputs": [],
   "source": [
    "update_y_train = np.zeros([y_train.shape[0], 3])\n",
    "\n",
    "for y in range(y_train.shape[0]):\n",
    "    if y_train[y] < 0.5:\n",
    "        update_y_train[y][0] = 1\n",
    "        update_y_train[y][1] = 0\n",
    "        update_y_train[y][2] = 0\n",
    "    elif y_train[y] > 0.5:\n",
    "        update_y_train[y][0] = 0\n",
    "        update_y_train[y][1] = 0\n",
    "        update_y_train[y][2] = 1\n",
    "    else:\n",
    "        update_y_train[y][0] = 0\n",
    "        update_y_train[y][1] = 1\n",
    "        update_y_train[y][2] = 0"
   ]
  },
  {
   "cell_type": "code",
   "execution_count": 37,
   "metadata": {},
   "outputs": [],
   "source": [
    "update_y_test = np.zeros([y_test.shape[0], 3])\n",
    "\n",
    "for y in range(y_test.shape[0]):\n",
    "    if y_test[y] < 0.5:\n",
    "        update_y_test[y][0] = 1\n",
    "        update_y_test[y][1] = 0\n",
    "        update_y_test[y][2] = 0\n",
    "    elif y_test[y] > 0.5:\n",
    "        update_y_test[y][0] = 0\n",
    "        update_y_test[y][1] = 0\n",
    "        update_y_test[y][2] = 1\n",
    "    else:\n",
    "        update_y_test[y][0] = 0\n",
    "        update_y_test[y][1] = 1\n",
    "        update_y_test[y][2] = 0"
   ]
  },
  {
   "cell_type": "code",
   "execution_count": 38,
   "metadata": {},
   "outputs": [],
   "source": [
    "a=list(zip(x_train, y_train))\n",
    "np.random.shuffle(a)\n",
    "x_train = np.array([])\n",
    "y_train = np.array([])\n",
    "for z in a:\n",
    "    x_train= np.append(x_train, z[0])\n",
    "    y_train= np.append(y_train, z[1])\n",
    "x_train = np.asarray([[x] for x in x_train])\n",
    "x_train = np.reshape(x_train, (x_train.shape[0], 1, x_train.shape[1]))"
   ]
  },
  {
   "cell_type": "code",
   "execution_count": 39,
   "metadata": {},
   "outputs": [],
   "source": [
    "b=list(zip(x_test, y_test))\n",
    "np.random.shuffle(b)\n",
    "x_test = np.array([])\n",
    "y_test = np.array([])\n",
    "for z in b:\n",
    "    x_test= np.append(x_test, z[0])\n",
    "    y_test= np.append(y_test, z[1])\n",
    "x_test = np.asarray([[x] for x in x_test])\n",
    "x_test = np.reshape(x_test, (x_test.shape[0], 1, x_test.shape[1]))"
   ]
  },
  {
   "cell_type": "code",
   "execution_count": null,
   "metadata": {},
   "outputs": [],
   "source": []
  },
  {
   "cell_type": "code",
   "execution_count": null,
   "metadata": {},
   "outputs": [],
   "source": []
  },
  {
   "cell_type": "code",
   "execution_count": null,
   "metadata": {},
   "outputs": [],
   "source": []
  },
  {
   "cell_type": "code",
   "execution_count": null,
   "metadata": {},
   "outputs": [],
   "source": []
  },
  {
   "cell_type": "code",
   "execution_count": 40,
   "metadata": {},
   "outputs": [
    {
     "name": "stdout",
     "output_type": "stream",
     "text": [
      "Train...\n",
      "Train on 14396 samples, validate on 3599 samples\n",
      "Epoch 1/4\n",
      "14396/14396 [==============================] - 6s 394us/step - loss: 0.4171 - accuracy: 0.8286 - val_loss: 0.8800 - val_accuracy: 0.3333\n",
      "Epoch 2/4\n",
      "14396/14396 [==============================] - 3s 186us/step - loss: 0.3789 - accuracy: 0.8306 - val_loss: 0.8442 - val_accuracy: 0.3333\n",
      "Epoch 3/4\n",
      "14396/14396 [==============================] - 3s 181us/step - loss: 0.3786 - accuracy: 0.8306 - val_loss: 0.8963 - val_accuracy: 0.3333\n",
      "Epoch 4/4\n",
      "14396/14396 [==============================] - 3s 182us/step - loss: 0.3784 - accuracy: 0.8306 - val_loss: 1.0025 - val_accuracy: 0.3333\n"
     ]
    },
    {
     "data": {
      "text/plain": [
       "<keras.callbacks.callbacks.History at 0x7d241418be10>"
      ]
     },
     "execution_count": 40,
     "metadata": {},
     "output_type": "execute_result"
    }
   ],
   "source": [
    "\n",
    "\n",
    "max_features = 1\n",
    "# cut texts after this number of words\n",
    "# (among top max_features most common words)\n",
    "maxlen = 10\n",
    "batch_size = 32\n",
    "\n",
    "# x_train = sequence.pad_sequences(x_train, maxlen=maxlen)\n",
    "# x_test = sequence.pad_sequences(x_test, maxlen=maxlen)\n",
    "y_train = np.array(update_y_train)\n",
    "y_test = np.array(update_y_test)\n",
    "\n",
    "model = Sequential()\n",
    "model.add(Bidirectional(LSTM(32, return_sequences=True), input_shape=(1,1)))\n",
    "model.add(Bidirectional(LSTM(32), input_shape=(1,1)))\n",
    "\n",
    "model.add(Dense(3, activation='sigmoid'))\n",
    "\n",
    "# try using different optimizers and different optimizer configs\n",
    "model.compile('adam', 'binary_crossentropy', metrics=['accuracy'])\n",
    "\n",
    "print('Train...')\n",
    "model.fit(x_train, y_train,\n",
    "          batch_size=batch_size,\n",
    "          epochs=4,\n",
    "          validation_data=[x_test, y_test])"
   ]
  },
  {
   "cell_type": "code",
   "execution_count": 41,
   "metadata": {},
   "outputs": [],
   "source": [
    "n=105"
   ]
  },
  {
   "cell_type": "code",
   "execution_count": 42,
   "metadata": {},
   "outputs": [],
   "source": [
    "pred = np.argmax(model.predict(x_test[n].reshape(1,x_test[0].shape[0], 1)))"
   ]
  },
  {
   "cell_type": "code",
   "execution_count": 43,
   "metadata": {},
   "outputs": [],
   "source": [
    "map_dict={'0':'neg_corr', '1':'bm', '2':'pos_corr'}"
   ]
  },
  {
   "cell_type": "code",
   "execution_count": 44,
   "metadata": {},
   "outputs": [
    {
     "data": {
      "text/plain": [
       "'pos_corr'"
      ]
     },
     "execution_count": 44,
     "metadata": {},
     "output_type": "execute_result"
    }
   ],
   "source": [
    "map_dict.get(str(pred))"
   ]
  },
  {
   "cell_type": "code",
   "execution_count": 45,
   "metadata": {},
   "outputs": [
    {
     "data": {
      "text/plain": [
       "array([[-1.00017383]])"
      ]
     },
     "execution_count": 45,
     "metadata": {},
     "output_type": "execute_result"
    }
   ],
   "source": [
    "x_test[n]"
   ]
  },
  {
   "cell_type": "code",
   "execution_count": 46,
   "metadata": {},
   "outputs": [
    {
     "data": {
      "text/plain": [
       "array([1., 0., 0.])"
      ]
     },
     "execution_count": 46,
     "metadata": {},
     "output_type": "execute_result"
    }
   ],
   "source": [
    "y_test[n]"
   ]
  },
  {
   "cell_type": "code",
   "execution_count": 47,
   "metadata": {},
   "outputs": [
    {
     "data": {
      "text/plain": [
       "2"
      ]
     },
     "execution_count": 47,
     "metadata": {},
     "output_type": "execute_result"
    }
   ],
   "source": [
    "pred"
   ]
  },
  {
   "cell_type": "code",
   "execution_count": 48,
   "metadata": {},
   "outputs": [
    {
     "data": {
      "text/plain": [
       "[0.66, 0.63, 0.46, 0.41, 0.6, 0.55]"
      ]
     },
     "execution_count": 48,
     "metadata": {},
     "output_type": "execute_result"
    }
   ],
   "source": [
    "list(dict.fromkeys(cb.hurst_list))"
   ]
  },
  {
   "cell_type": "code",
   "execution_count": 49,
   "metadata": {},
   "outputs": [
    {
     "data": {
      "text/plain": [
       "[0.66, 0.63, 0.46, 0.41, 0.6, 0.55]"
      ]
     },
     "execution_count": 49,
     "metadata": {},
     "output_type": "execute_result"
    }
   ],
   "source": [
    "list(dict.fromkeys(cb.hurst_list))"
   ]
  },
  {
   "cell_type": "code",
   "execution_count": 5,
   "metadata": {},
   "outputs": [
    {
     "data": {
      "text/plain": [
       "[            O         H         L         C  Hurst  Date    label\n",
       " 0   -0.037435  0.092250 -0.246024  0.069492   0.55     0  pos_cor\n",
       " 1    0.085804  0.291348  0.085804  0.280892   0.55     1  pos_cor\n",
       " 2    0.249199  0.249199 -0.225102 -0.210159   0.55     2  pos_cor\n",
       " 3   -0.221937  0.053222 -0.468699 -0.412788   0.55     3  pos_cor\n",
       " 4   -0.423596 -0.192782 -0.583820 -0.541530   0.55     4  pos_cor\n",
       " ..        ...       ...       ...       ...    ...   ...      ...\n",
       " 145 -5.738486 -5.682116 -5.871030 -5.764143   0.52   145  pos_cor\n",
       " 146 -5.745110 -5.621688 -5.980967 -5.807197   0.52   146  pos_cor\n",
       " 147 -5.792398 -5.718264 -6.000850 -5.878006   0.52   147  pos_cor\n",
       " 148 -5.871462 -5.812394 -6.015732 -5.900898   0.52   148  pos_cor\n",
       " 149 -5.908332 -5.908332 -6.373587 -6.373587   0.52   149  pos_cor\n",
       " \n",
       " [150 rows x 7 columns],\n",
       "             O         H         L         C  Hurst  Date    label\n",
       " 0   -0.107653  0.131902 -0.422397 -0.065536   0.38     0  neg_cor\n",
       " 1   -0.057672  0.443596 -0.282258  0.035919   0.38     1  neg_cor\n",
       " 2    0.030247  0.362316 -0.161804  0.139495   0.38     2  neg_cor\n",
       " 3    0.173357  0.241095 -0.984383 -0.681855   0.38     3  neg_cor\n",
       " 4   -0.694144  0.191523 -0.881555 -0.034900   0.38     4  neg_cor\n",
       " ..        ...       ...       ...       ...    ...   ...      ...\n",
       " 145 -0.756661 -0.718088 -0.918623 -0.734452   0.60   145  pos_cor\n",
       " 146 -0.729804 -0.602882 -0.790500 -0.753814   0.60   146  pos_cor\n",
       " 147 -0.746284 -0.719965 -1.164110 -1.038824   0.60   147  pos_cor\n",
       " 148 -1.014835 -0.919510 -1.119435 -0.990965   0.60   148  pos_cor\n",
       " 149 -1.004347 -1.004347 -1.432749 -1.254975   0.60   149  pos_cor\n",
       " \n",
       " [150 rows x 7 columns],\n",
       "             O         H         L         C  Hurst  Date    label\n",
       " 0   -0.008142  0.019301 -0.205552 -0.045920   0.56     0  pos_cor\n",
       " 1   -0.047500 -0.047500 -0.453942 -0.433606   0.56     1  pos_cor\n",
       " 2   -0.436662 -0.210235 -0.466304 -0.210235   0.56     2  pos_cor\n",
       " 3   -0.203876 -0.166002 -0.312874 -0.241137   0.56     3  pos_cor\n",
       " 4   -0.236821  0.032563 -0.262616 -0.002598   0.56     4  pos_cor\n",
       " ..        ...       ...       ...       ...    ...   ...      ...\n",
       " 145  2.414810  2.683318  2.389365  2.678505   0.59   145  pos_cor\n",
       " 146  2.666507  2.688528  2.274062  2.471990   0.59   146  pos_cor\n",
       " 147  2.505450  2.668582  1.951305  2.060398   0.56   147  pos_cor\n",
       " 148  2.032519  2.032519  0.971943  1.335490   0.56   148  pos_cor\n",
       " 149  1.395807  1.515619  0.413701  0.603619   0.56   149  pos_cor\n",
       " \n",
       " [150 rows x 7 columns],\n",
       "             O         H         L         C  Hurst  Date    label\n",
       " 0   -0.114577  0.069870 -0.985690 -0.710922   0.32     0  neg_cor\n",
       " 1   -0.858504  0.212658 -1.051095 -0.258446   0.32     1  neg_cor\n",
       " 2   -0.174587  0.010977 -1.205526 -0.560850   0.32     2  neg_cor\n",
       " 3   -0.770280 -0.401608 -1.490481 -0.500707   0.32     3  neg_cor\n",
       " 4   -0.401579 -0.012676 -0.980678 -0.980678   0.32     4  neg_cor\n",
       " ..        ...       ...       ...       ...    ...   ...      ...\n",
       " 145 -3.253523 -3.248918 -3.626670 -3.570333   0.53   145  pos_cor\n",
       " 146 -3.566607 -3.234158 -3.581474 -3.284070   0.53   146  pos_cor\n",
       " 147 -3.291532 -3.164834 -3.358040 -3.349178   0.53   147  pos_cor\n",
       " 148 -3.338358 -3.166330 -3.347108 -3.270240   0.53   148  pos_cor\n",
       " 149 -3.282191 -2.979751 -3.349469 -3.030916   0.53   149  pos_cor\n",
       " \n",
       " [150 rows x 7 columns],\n",
       "             O         H         L         C  Hurst  Date    label\n",
       " 0   -0.007648  0.235691 -0.017778  0.156903   0.53     0  pos_cor\n",
       " 1    0.136322  0.201699 -0.066016 -0.022434   0.53     1  pos_cor\n",
       " 2   -0.026066  0.223695 -0.145874  0.223695   0.53     2  pos_cor\n",
       " 3    0.212297  0.328590  0.023875  0.023875   0.53     3  pos_cor\n",
       " 4    0.030896  0.114087 -0.397014 -0.397014   0.53     4  pos_cor\n",
       " ..        ...       ...       ...       ...    ...   ...      ...\n",
       " 145  0.824557  1.208390  0.813182  1.074009   0.42   145  neg_cor\n",
       " 146  1.142329  1.552995  0.947578  0.989629   0.42   146  neg_cor\n",
       " 147  0.986620  1.128387  0.280176  0.502472   0.42   147  neg_cor\n",
       " 148  0.579963  0.644661  0.345655  0.526345   0.42   148  neg_cor\n",
       " 149  0.504817  0.698154  0.349881  0.516613   0.42   149  neg_cor\n",
       " \n",
       " [150 rows x 7 columns]]"
      ]
     },
     "execution_count": 5,
     "metadata": {},
     "output_type": "execute_result"
    }
   ],
   "source": [
    "list(cb.make_days(5))"
   ]
  },
  {
   "cell_type": "code",
   "execution_count": null,
   "metadata": {},
   "outputs": [],
   "source": []
  }
 ],
 "metadata": {
  "kernelspec": {
   "display_name": "Python 3",
   "language": "python",
   "name": "python3"
  },
  "language_info": {
   "codemirror_mode": {
    "name": "ipython",
    "version": 3
   },
   "file_extension": ".py",
   "mimetype": "text/x-python",
   "name": "python",
   "nbconvert_exporter": "python",
   "pygments_lexer": "ipython3",
   "version": "3.6.10"
  }
 },
 "nbformat": 4,
 "nbformat_minor": 4
}
